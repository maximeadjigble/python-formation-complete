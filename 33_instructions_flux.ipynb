{
 "cells": [
  {
   "cell_type": "code",
   "execution_count": 13,
   "metadata": {},
   "outputs": [],
   "source": [
    "#break\n",
    "planetes = [\"mars\", \"jupiter\", \"terre\", \"saturne\", \"venus\"]"
   ]
  },
  {
   "cell_type": "code",
   "execution_count": 15,
   "metadata": {},
   "outputs": [
    {
     "name": "stdout",
     "output_type": "stream",
     "text": [
      "0 mars\n",
      "1 jupiter\n",
      "Hooraa, on a trouvé la terre, index: 2\n",
      "Fin\n"
     ]
    }
   ],
   "source": [
    "for i, p in enumerate(planetes):\n",
    "    if p == \"terre\":\n",
    "        print(\"Hooraa, on a trouvé la terre, index:\", i)\n",
    "        break\n",
    "    print(i, p)\n",
    "print(\"Fin\")"
   ]
  },
  {
   "cell_type": "code",
   "execution_count": 17,
   "metadata": {},
   "outputs": [
    {
     "name": "stdout",
     "output_type": "stream",
     "text": [
      "continue 1\n",
      "continue 2\n",
      "On a trouvé la terre: index  2\n"
     ]
    }
   ],
   "source": [
    "i = 0\n",
    "while i < len(planetes):\n",
    "    if planetes[i] == \"terre\":\n",
    "        print(\"On a trouvé la terre: index \", i)\n",
    "        break\n",
    "    i = i + 1\n",
    "    print(\"continue\", i)"
   ]
  },
  {
   "cell_type": "code",
   "execution_count": 19,
   "metadata": {},
   "outputs": [
    {
     "name": "stdout",
     "output_type": "stream",
     "text": [
      "0 est multiple de 3\n",
      "1 n'est pas multiple de 3\n",
      "2 n'est pas multiple de 3\n",
      "3 est multiple de 3\n",
      "4 n'est pas multiple de 3\n",
      "5 n'est pas multiple de 3\n",
      "6 est multiple de 3\n",
      "7 n'est pas multiple de 3\n",
      "8 n'est pas multiple de 3\n",
      "9 est multiple de 3\n"
     ]
    }
   ],
   "source": [
    "#continue\n",
    "for i in range(10):\n",
    "    if i % 3 == 0:\n",
    "        print(\"{} est multiple de 3\".format(i))\n",
    "        continue\n",
    "    print(\"{} n'est pas multiple de 3\".format(i))"
   ]
  },
  {
   "cell_type": "code",
   "execution_count": null,
   "metadata": {},
   "outputs": [],
   "source": []
  }
 ],
 "metadata": {
  "kernelspec": {
   "display_name": "Python 3",
   "language": "python",
   "name": "python3"
  },
  "language_info": {
   "codemirror_mode": {
    "name": "ipython",
    "version": 3
   },
   "file_extension": ".py",
   "mimetype": "text/x-python",
   "name": "python",
   "nbconvert_exporter": "python",
   "pygments_lexer": "ipython3",
   "version": "3.7.6"
  }
 },
 "nbformat": 4,
 "nbformat_minor": 4
}
