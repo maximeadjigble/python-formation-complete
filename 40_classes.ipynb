{
 "cells": [
  {
   "cell_type": "code",
   "execution_count": 37,
   "metadata": {},
   "outputs": [],
   "source": [
    "class Personnage:\n",
    "    pass\n",
    "\n",
    "personne1 = Personnage()\n",
    "personne2 = Personnage()"
   ]
  },
  {
   "cell_type": "code",
   "execution_count": 38,
   "metadata": {},
   "outputs": [
    {
     "name": "stdout",
     "output_type": "stream",
     "text": [
      "<__main__.Personnage object at 0x0000025890A0F5C8>\n"
     ]
    }
   ],
   "source": [
    "print(personne1)"
   ]
  },
  {
   "cell_type": "code",
   "execution_count": 39,
   "metadata": {},
   "outputs": [
    {
     "name": "stdout",
     "output_type": "stream",
     "text": [
      "<__main__.Personnage object at 0x0000025890A0F588>\n"
     ]
    }
   ],
   "source": [
    "print(personne2)"
   ]
  },
  {
   "cell_type": "code",
   "execution_count": 42,
   "metadata": {},
   "outputs": [],
   "source": [
    "n = [4,2,5]"
   ]
  },
  {
   "cell_type": "code",
   "execution_count": 43,
   "metadata": {},
   "outputs": [
    {
     "name": "stdout",
     "output_type": "stream",
     "text": [
      "<class 'list'>\n"
     ]
    }
   ],
   "source": [
    "print(type(n))"
   ]
  },
  {
   "cell_type": "code",
   "execution_count": 44,
   "metadata": {},
   "outputs": [],
   "source": [
    "personne1.nom = \"Curry\"\n",
    "personne1.prenom = \"Stephane\""
   ]
  },
  {
   "cell_type": "code",
   "execution_count": 47,
   "metadata": {},
   "outputs": [],
   "source": [
    "personne2.nom = \"Jordan\"\n",
    "personne2.prenom = \"Michael\""
   ]
  },
  {
   "cell_type": "code",
   "execution_count": 49,
   "metadata": {},
   "outputs": [
    {
     "name": "stdout",
     "output_type": "stream",
     "text": [
      "Nom Curry Prénom Stephane\n"
     ]
    }
   ],
   "source": [
    "print(\"Nom\", personne1.nom, \"Prénom\", personne1.prenom)"
   ]
  },
  {
   "cell_type": "code",
   "execution_count": 50,
   "metadata": {},
   "outputs": [
    {
     "name": "stdout",
     "output_type": "stream",
     "text": [
      "Nom Jordan Prénom Michael\n"
     ]
    }
   ],
   "source": [
    "print(\"Nom\", personne2.nom, \"Prénom\", personne2.prenom)"
   ]
  },
  {
   "cell_type": "code",
   "execution_count": 57,
   "metadata": {},
   "outputs": [],
   "source": [
    "class Personnage2:\n",
    "    nom = \"Curry\"\n",
    "    prenom = \"Stephane\"\n",
    "    \n",
    "personne3 = Personnage2()\n",
    "personne4 = Personnage2()"
   ]
  },
  {
   "cell_type": "code",
   "execution_count": 58,
   "metadata": {},
   "outputs": [
    {
     "name": "stdout",
     "output_type": "stream",
     "text": [
      "Nom Curry Prénom Stephane\n"
     ]
    }
   ],
   "source": [
    "print(\"Nom\", personne3.nom, \"Prénom\", personne3.prenom)"
   ]
  },
  {
   "cell_type": "code",
   "execution_count": 56,
   "metadata": {},
   "outputs": [
    {
     "name": "stdout",
     "output_type": "stream",
     "text": [
      "Nom Curry Prénom Stephane\n"
     ]
    }
   ],
   "source": [
    "print(\"Nom\", personne4.nom, \"Prénom\", personne4.prenom)"
   ]
  },
  {
   "cell_type": "code",
   "execution_count": null,
   "metadata": {},
   "outputs": [],
   "source": []
  }
 ],
 "metadata": {
  "kernelspec": {
   "display_name": "Python 3",
   "language": "python",
   "name": "python3"
  },
  "language_info": {
   "codemirror_mode": {
    "name": "ipython",
    "version": 3
   },
   "file_extension": ".py",
   "mimetype": "text/x-python",
   "name": "python",
   "nbconvert_exporter": "python",
   "pygments_lexer": "ipython3",
   "version": "3.7.6"
  }
 },
 "nbformat": 4,
 "nbformat_minor": 4
}
