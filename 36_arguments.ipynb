{
 "cells": [
  {
   "cell_type": "code",
   "execution_count": 5,
   "metadata": {},
   "outputs": [],
   "source": [
    "def carre(x):\n",
    "    print(\"{} au carré = {}\".format(x, x*x))"
   ]
  },
  {
   "cell_type": "code",
   "execution_count": 7,
   "metadata": {},
   "outputs": [
    {
     "name": "stdout",
     "output_type": "stream",
     "text": [
      "6 au carré = 36\n"
     ]
    }
   ],
   "source": [
    "carre(6)"
   ]
  },
  {
   "cell_type": "code",
   "execution_count": null,
   "metadata": {},
   "outputs": [],
   "source": [
    "#calculateur(4, 6)\n",
    "#addition\n",
    "#soustraction\n",
    "#division\n",
    "#multiplication"
   ]
  },
  {
   "cell_type": "code",
   "execution_count": 8,
   "metadata": {},
   "outputs": [],
   "source": [
    "def calculateur(x, y):\n",
    "    print(\"Addition\", x + y)\n",
    "    print(\"Soustraction\", x - y)\n",
    "    if y > 0.0001 or y < -0.0001:\n",
    "        print(\"Division\", x/y)\n",
    "    else:\n",
    "        print(\"Division Impossible\")\n",
    "    print(\"Multiplication\", x*y)"
   ]
  },
  {
   "cell_type": "code",
   "execution_count": 11,
   "metadata": {},
   "outputs": [
    {
     "name": "stdout",
     "output_type": "stream",
     "text": [
      "Addition 10\n",
      "Soustraction -2\n",
      "Division 0.6666666666666666\n",
      "Multiplication 24\n"
     ]
    }
   ],
   "source": [
    "calculateur(4, 6)"
   ]
  },
  {
   "cell_type": "code",
   "execution_count": 12,
   "metadata": {},
   "outputs": [
    {
     "name": "stdout",
     "output_type": "stream",
     "text": [
      "Addition 91\n",
      "Soustraction -43\n",
      "Division 0.3582089552238806\n",
      "Multiplication 1608\n"
     ]
    }
   ],
   "source": [
    "calculateur(24, 67)"
   ]
  },
  {
   "cell_type": "code",
   "execution_count": 14,
   "metadata": {},
   "outputs": [],
   "source": [
    "def guests(invites):\n",
    "    prenom = input(\"Entrez votre prénom.\")\n",
    "    if prenom.capitalize() in invites:\n",
    "        print(\"Bonjour Monsieur/Madame\", prenom)\n",
    "        print(\"Bienvenue\")\n",
    "    else:\n",
    "        print(\"Désolé Monsieur/Madame {}, vous ne faites pas parti de la liste.\".format(prenom))"
   ]
  },
  {
   "cell_type": "code",
   "execution_count": 15,
   "metadata": {},
   "outputs": [],
   "source": [
    "invites_vip = [\"Elon\", \"Jeff\", \"Bill\",\"Federer\"]\n",
    "invites_standard = [\"Maxime\", \"Jean\", \"Veronika\", \"Georges\", \"Patrick\"]"
   ]
  },
  {
   "cell_type": "code",
   "execution_count": 17,
   "metadata": {},
   "outputs": [
    {
     "name": "stdout",
     "output_type": "stream",
     "text": [
      "Entrez votre prénom.Maxime\n",
      "Bonjour Monsieur/Madame Maxime\n",
      "Bienvenue\n"
     ]
    }
   ],
   "source": [
    "guests(invites_standard)"
   ]
  },
  {
   "cell_type": "code",
   "execution_count": null,
   "metadata": {},
   "outputs": [],
   "source": []
  }
 ],
 "metadata": {
  "kernelspec": {
   "display_name": "Python 3",
   "language": "python",
   "name": "python3"
  },
  "language_info": {
   "codemirror_mode": {
    "name": "ipython",
    "version": 3
   },
   "file_extension": ".py",
   "mimetype": "text/x-python",
   "name": "python",
   "nbconvert_exporter": "python",
   "pygments_lexer": "ipython3",
   "version": "3.7.6"
  }
 },
 "nbformat": 4,
 "nbformat_minor": 4
}
