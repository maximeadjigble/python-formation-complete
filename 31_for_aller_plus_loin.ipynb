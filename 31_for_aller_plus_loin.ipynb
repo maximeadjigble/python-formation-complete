{
 "cells": [
  {
   "cell_type": "code",
   "execution_count": 2,
   "metadata": {},
   "outputs": [],
   "source": [
    "departements = [\"Yonne\", \"Essonne\", \"Guadeloupe\"]\n",
    "codes = [89, 91, 971]\n",
    "#Afficher: Le code du département X est Y."
   ]
  },
  {
   "cell_type": "code",
   "execution_count": 17,
   "metadata": {},
   "outputs": [
    {
     "name": "stdout",
     "output_type": "stream",
     "text": [
      "Le code du département Yonne est 89\n",
      "Le code du département Essonne est 91\n",
      "Le code du département Guadeloupe est 971\n"
     ]
    }
   ],
   "source": [
    "#emunerate()\n",
    "for i,v in enumerate(departements):\n",
    "    print(\"Le code du département {} est {}\".format(v, codes[i]))"
   ]
  },
  {
   "cell_type": "code",
   "execution_count": 22,
   "metadata": {},
   "outputs": [
    {
     "name": "stdout",
     "output_type": "stream",
     "text": [
      "Le code du département Yonne est 89\n",
      "Le code du département Essonne est 91\n",
      "Le code du département Guadeloupe est 971\n"
     ]
    }
   ],
   "source": [
    "#zip\n",
    "for v, c in zip(departements, codes):\n",
    "    print(\"Le code du département {} est {}\".format(v, c))"
   ]
  },
  {
   "cell_type": "code",
   "execution_count": 23,
   "metadata": {},
   "outputs": [],
   "source": [
    "populations={\"londres\": 8.982, \"paris\":2.148, \"new york\": 8.4, \"bruxelles\": 1.2}"
   ]
  },
  {
   "cell_type": "code",
   "execution_count": 24,
   "metadata": {},
   "outputs": [
    {
     "name": "stdout",
     "output_type": "stream",
     "text": [
      "{'londres': 8.982, 'paris': 2.148, 'new york': 8.4, 'bruxelles': 1.2}\n"
     ]
    }
   ],
   "source": [
    "print(populations)"
   ]
  },
  {
   "cell_type": "code",
   "execution_count": 26,
   "metadata": {},
   "outputs": [
    {
     "name": "stdout",
     "output_type": "stream",
     "text": [
      "londres 8.982\n",
      "paris 2.148\n",
      "new york 8.4\n",
      "bruxelles 1.2\n"
     ]
    }
   ],
   "source": [
    "for v in populations:\n",
    "    print(v, populations[v])"
   ]
  },
  {
   "cell_type": "code",
   "execution_count": 28,
   "metadata": {},
   "outputs": [
    {
     "name": "stdout",
     "output_type": "stream",
     "text": [
      "La population de londres est 8.982 millions\n",
      "La population de paris est 2.148 millions\n",
      "La population de new york est 8.4 millions\n",
      "La population de bruxelles est 1.2 millions\n"
     ]
    }
   ],
   "source": [
    "#.items()\n",
    "for k,p in populations.items():\n",
    "    print(\"La population de {} est {} millions\".format(k, p))"
   ]
  },
  {
   "cell_type": "code",
   "execution_count": null,
   "metadata": {},
   "outputs": [],
   "source": []
  },
  {
   "cell_type": "code",
   "execution_count": null,
   "metadata": {},
   "outputs": [],
   "source": []
  }
 ],
 "metadata": {
  "kernelspec": {
   "display_name": "Python 3",
   "language": "python",
   "name": "python3"
  },
  "language_info": {
   "codemirror_mode": {
    "name": "ipython",
    "version": 3
   },
   "file_extension": ".py",
   "mimetype": "text/x-python",
   "name": "python",
   "nbconvert_exporter": "python",
   "pygments_lexer": "ipython3",
   "version": "3.7.6"
  }
 },
 "nbformat": 4,
 "nbformat_minor": 4
}
