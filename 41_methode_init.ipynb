{
 "cells": [
  {
   "cell_type": "code",
   "execution_count": 8,
   "metadata": {},
   "outputs": [],
   "source": [
    "class Personnage:\n",
    "    def __init__(self, nom, prenom, age):\n",
    "        self.nom = nom\n",
    "        self.prenom = prenom\n",
    "        self.age = age\n",
    "        \n",
    "personne1 = Personnage(\"Musk\", \"Elon\", 48)\n",
    "personne2 = Personnage(\"Bezos\", \"Jeff\", 56)"
   ]
  },
  {
   "cell_type": "code",
   "execution_count": 9,
   "metadata": {
    "scrolled": true
   },
   "outputs": [
    {
     "name": "stdout",
     "output_type": "stream",
     "text": [
      "Nom Musk Prénom Elon Âge 48\n"
     ]
    }
   ],
   "source": [
    "print(\"Nom\", personne1.nom, \"Prénom\", personne1.prenom, \"Âge\", personne1.age)"
   ]
  },
  {
   "cell_type": "code",
   "execution_count": 10,
   "metadata": {},
   "outputs": [
    {
     "name": "stdout",
     "output_type": "stream",
     "text": [
      "Nom Bezos Prénom Jeff Âge 56\n"
     ]
    }
   ],
   "source": [
    "print(\"Nom\", personne2.nom, \"Prénom\", personne2.prenom, \"Âge\", personne2.age)"
   ]
  },
  {
   "cell_type": "code",
   "execution_count": null,
   "metadata": {},
   "outputs": [],
   "source": []
  }
 ],
 "metadata": {
  "kernelspec": {
   "display_name": "Python 3",
   "language": "python",
   "name": "python3"
  },
  "language_info": {
   "codemirror_mode": {
    "name": "ipython",
    "version": 3
   },
   "file_extension": ".py",
   "mimetype": "text/x-python",
   "name": "python",
   "nbconvert_exporter": "python",
   "pygments_lexer": "ipython3",
   "version": "3.7.6"
  }
 },
 "nbformat": 4,
 "nbformat_minor": 4
}
