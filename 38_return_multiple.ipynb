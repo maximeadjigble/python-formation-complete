{
 "cells": [
  {
   "cell_type": "code",
   "execution_count": 5,
   "metadata": {},
   "outputs": [],
   "source": [
    "def carre_cube(x):\n",
    "    x2 = x*x\n",
    "    x3 = x*x*x\n",
    "    return x2, x3"
   ]
  },
  {
   "cell_type": "code",
   "execution_count": 7,
   "metadata": {},
   "outputs": [
    {
     "name": "stdout",
     "output_type": "stream",
     "text": [
      "Carré 36\n",
      "Cube 216\n"
     ]
    }
   ],
   "source": [
    "v2, v3 = carre_cube(6)\n",
    "print(\"Carré\", v2)\n",
    "print(\"Cube\", v3)"
   ]
  },
  {
   "cell_type": "code",
   "execution_count": 9,
   "metadata": {},
   "outputs": [],
   "source": [
    "def calculateur(x, y):\n",
    "    a = x + y\n",
    "    s = x - y\n",
    "    d = 0\n",
    "    if y > 0.001 or y < -0.001:\n",
    "        d = x / y\n",
    "    m = x*y\n",
    "    return a, s, d, m"
   ]
  },
  {
   "cell_type": "code",
   "execution_count": 10,
   "metadata": {},
   "outputs": [
    {
     "name": "stdout",
     "output_type": "stream",
     "text": [
      "57 51 18.0 162\n"
     ]
    }
   ],
   "source": [
    "a, s, d, m = calculateur(54, 3)\n",
    "print(a, s, d, m)"
   ]
  },
  {
   "cell_type": "code",
   "execution_count": null,
   "metadata": {},
   "outputs": [],
   "source": []
  }
 ],
 "metadata": {
  "kernelspec": {
   "display_name": "Python 3",
   "language": "python",
   "name": "python3"
  },
  "language_info": {
   "codemirror_mode": {
    "name": "ipython",
    "version": 3
   },
   "file_extension": ".py",
   "mimetype": "text/x-python",
   "name": "python",
   "nbconvert_exporter": "python",
   "pygments_lexer": "ipython3",
   "version": "3.7.6"
  }
 },
 "nbformat": 4,
 "nbformat_minor": 4
}
