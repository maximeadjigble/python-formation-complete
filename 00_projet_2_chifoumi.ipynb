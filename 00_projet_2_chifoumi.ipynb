{
 "cells": [
  {
   "cell_type": "code",
   "execution_count": 35,
   "metadata": {},
   "outputs": [
    {
     "name": "stdout",
     "output_type": "stream",
     "text": [
      "Faites votre choix (pierre, papier, ciseaux) ciseaux\n",
      "Choix => Homme: ciseaux | Machine: pierre\n",
      "Vous avez perdu\n"
     ]
    }
   ],
   "source": [
    "import random\n",
    "\n",
    "options = [\"pierre\", \"papier\", \"ciseaux\"]\n",
    "indice_aleatoire = random.randint(0, len(options)-1)\n",
    "choix_m = options[indice_aleatoire]\n",
    "\n",
    "choix_h = input(\"Faites votre choix (pierre, papier, ciseaux) \")\n",
    "\n",
    "print(\"Choix => Homme: {} | Machine: {}\".format(choix_h, choix_m))\n",
    "\n",
    "if choix_h in options:\n",
    "    if choix_h == choix_m:\n",
    "        print(\"Vous êtes à égalité\")\n",
    "    else:    \n",
    "        if (choix_h == \"pierre\" and choix_m == \"ciseaux\") \\\n",
    "        or (choix_h == \"papier\" and choix_m == \"pierre\") \\\n",
    "        or (choix_h == \"ciseaux\" and choix_m == \"papier\"):\n",
    "            print(\"Bravo, vous avez gangé\")\n",
    "        else:\n",
    "            print(\"Vous avez perdu\")\n",
    "else:\n",
    "    print(\"Choix incorrect\")\n",
    "    print(\"Les options: pierre, papier ou ciseaux\")\n",
    "    print(\"Votre choix: \", choix_h)"
   ]
  },
  {
   "cell_type": "code",
   "execution_count": null,
   "metadata": {},
   "outputs": [],
   "source": []
  }
 ],
 "metadata": {
  "kernelspec": {
   "display_name": "Python 3",
   "language": "python",
   "name": "python3"
  },
  "language_info": {
   "codemirror_mode": {
    "name": "ipython",
    "version": 3
   },
   "file_extension": ".py",
   "mimetype": "text/x-python",
   "name": "python",
   "nbconvert_exporter": "python",
   "pygments_lexer": "ipython3",
   "version": "3.6.7"
  }
 },
 "nbformat": 4,
 "nbformat_minor": 2
}
