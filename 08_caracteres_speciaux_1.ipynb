{
 "cells": [
  {
   "cell_type": "code",
   "execution_count": 2,
   "metadata": {},
   "outputs": [
    {
     "name": "stdout",
     "output_type": "stream",
     "text": [
      "Je m'appel\n"
     ]
    }
   ],
   "source": [
    "print('Je m\\'appel')"
   ]
  },
  {
   "cell_type": "code",
   "execution_count": 3,
   "metadata": {},
   "outputs": [
    {
     "name": "stdout",
     "output_type": "stream",
     "text": [
      "Je m'appel Jean. Je t'avais prévenu qu'il fallait s'attaquer à la source du problème\n"
     ]
    }
   ],
   "source": [
    "print('Je m\\'appel Jean. Je t\\'avais prévenu qu\\'il fallait s\\'attaquer à la source du problème')"
   ]
  },
  {
   "cell_type": "code",
   "execution_count": 4,
   "metadata": {},
   "outputs": [
    {
     "name": "stdout",
     "output_type": "stream",
     "text": [
      "Je m'appel Jean. Je t'avais prévenu qu'il fallait s'attaquer à la source du problème\n"
     ]
    }
   ],
   "source": [
    "print(\"Je m'appel Jean. Je t'avais prévenu qu'il fallait s'attaquer à la source du problème\")"
   ]
  },
  {
   "cell_type": "code",
   "execution_count": 5,
   "metadata": {},
   "outputs": [
    {
     "name": "stdout",
     "output_type": "stream",
     "text": [
      "\"Oui\", elle à dit\n"
     ]
    }
   ],
   "source": [
    "print('\"Oui\", elle à dit')"
   ]
  },
  {
   "cell_type": "code",
   "execution_count": null,
   "metadata": {},
   "outputs": [],
   "source": []
  }
 ],
 "metadata": {
  "kernelspec": {
   "display_name": "Python 3",
   "language": "python",
   "name": "python3"
  },
  "language_info": {
   "codemirror_mode": {
    "name": "ipython",
    "version": 3
   },
   "file_extension": ".py",
   "mimetype": "text/x-python",
   "name": "python",
   "nbconvert_exporter": "python",
   "pygments_lexer": "ipython3",
   "version": "3.7.6"
  }
 },
 "nbformat": 4,
 "nbformat_minor": 4
}
