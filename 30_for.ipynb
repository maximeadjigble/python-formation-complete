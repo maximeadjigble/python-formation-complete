{
 "cells": [
  {
   "cell_type": "code",
   "execution_count": 9,
   "metadata": {},
   "outputs": [
    {
     "name": "stdout",
     "output_type": "stream",
     "text": [
      "0\n",
      "1\n",
      "4\n",
      "9\n",
      "16\n",
      "25\n",
      "36\n",
      "Fin\n"
     ]
    }
   ],
   "source": [
    "nombres = [0,1,2,3,4,5,6]\n",
    "for n in nombres:\n",
    "    print(n*n)\n",
    "print(\"Fin\")"
   ]
  },
  {
   "cell_type": "code",
   "execution_count": 10,
   "metadata": {},
   "outputs": [
    {
     "name": "stdout",
     "output_type": "stream",
     "text": [
      "0\n",
      "1\n",
      "3\n",
      "6\n",
      "10\n",
      "15\n",
      "21\n",
      "Total 21\n"
     ]
    }
   ],
   "source": [
    "nombres = [0,1,2,3,4,5,6]\n",
    "total = 0\n",
    "for n in nombres:\n",
    "    total = total + n\n",
    "    print(total)\n",
    "    \n",
    "print(\"Total\", total)"
   ]
  },
  {
   "cell_type": "code",
   "execution_count": 14,
   "metadata": {},
   "outputs": [
    {
     "name": "stdout",
     "output_type": "stream",
     "text": [
      "['Paris', 'Londres', 'Bruxelles', 'Manchester']\n"
     ]
    }
   ],
   "source": [
    "villes = [\"paris\", \"londres\", \"bruxelles\", \"manchester\"]\n",
    "villes2 = []\n",
    "for v in villes:\n",
    "    v2 = v.capitalize()\n",
    "    villes2.append(v2)\n",
    "print(villes2)"
   ]
  },
  {
   "cell_type": "code",
   "execution_count": null,
   "metadata": {},
   "outputs": [],
   "source": []
  },
  {
   "cell_type": "code",
   "execution_count": null,
   "metadata": {},
   "outputs": [],
   "source": []
  }
 ],
 "metadata": {
  "kernelspec": {
   "display_name": "Python 3",
   "language": "python",
   "name": "python3"
  },
  "language_info": {
   "codemirror_mode": {
    "name": "ipython",
    "version": 3
   },
   "file_extension": ".py",
   "mimetype": "text/x-python",
   "name": "python",
   "nbconvert_exporter": "python",
   "pygments_lexer": "ipython3",
   "version": "3.7.6"
  }
 },
 "nbformat": 4,
 "nbformat_minor": 4
}
