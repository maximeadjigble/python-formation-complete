{
 "cells": [
  {
   "cell_type": "code",
   "execution_count": 2,
   "metadata": {},
   "outputs": [
    {
     "name": "stdout",
     "output_type": "stream",
     "text": [
      "Entrez votre poids (Kg) 84\n",
      "Entrez votre taille (m) 1.83\n",
      "Votre IMC est: 25.082863029651524\n"
     ]
    }
   ],
   "source": [
    "poids = input(\"Entrez votre poids (Kg) \")\n",
    "taille = input(\"Entrez votre taille (m) \")\n",
    "poids_f = float(poids)\n",
    "taille_f = float(taille)\n",
    "imc = poids_f/(taille_f*taille_f)\n",
    "print(\"Votre IMC est: {}\".format(imc))"
   ]
  },
  {
   "cell_type": "code",
   "execution_count": null,
   "metadata": {},
   "outputs": [],
   "source": []
  }
 ],
 "metadata": {
  "kernelspec": {
   "display_name": "Python 3",
   "language": "python",
   "name": "python3"
  },
  "language_info": {
   "codemirror_mode": {
    "name": "ipython",
    "version": 3
   },
   "file_extension": ".py",
   "mimetype": "text/x-python",
   "name": "python",
   "nbconvert_exporter": "python",
   "pygments_lexer": "ipython3",
   "version": "3.6.7"
  }
 },
 "nbformat": 4,
 "nbformat_minor": 2
}
