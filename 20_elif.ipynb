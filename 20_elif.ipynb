{
 "cells": [
  {
   "cell_type": "code",
   "execution_count": 3,
   "metadata": {},
   "outputs": [
    {
     "name": "stdout",
     "output_type": "stream",
     "text": [
      "Le prix est élevé\n",
      "Fin\n"
     ]
    }
   ],
   "source": [
    "prix = 60\n",
    "if prix <= 10:\n",
    "    print(\"Le prix est bas\")\n",
    "elif prix > 10 and prix <= 20:\n",
    "    print(\"Le prix est raisonnable\")\n",
    "else:\n",
    "    print(\"Le prix est élevé\")\n",
    "print(\"Fin\")"
   ]
  },
  {
   "cell_type": "code",
   "execution_count": 8,
   "metadata": {},
   "outputs": [
    {
     "name": "stdout",
     "output_type": "stream",
     "text": [
      "On va faire du shopping\n",
      "Fin\n"
     ]
    }
   ],
   "source": [
    "temps = \"pluvieux\"\n",
    "\n",
    "if temps == \"beau\":\n",
    "    print(\"On va à la plage\")\n",
    "elif temps == \"nuageux\" or temps == \"pluvieux\":\n",
    "    print(\"On va faire du shopping\")\n",
    "else:\n",
    "    print(\"On regarde la télé\")\n",
    "\n",
    "print(\"Fin\")   "
   ]
  },
  {
   "cell_type": "code",
   "execution_count": null,
   "metadata": {},
   "outputs": [],
   "source": []
  }
 ],
 "metadata": {
  "kernelspec": {
   "display_name": "Python 3",
   "language": "python",
   "name": "python3"
  },
  "language_info": {
   "codemirror_mode": {
    "name": "ipython",
    "version": 3
   },
   "file_extension": ".py",
   "mimetype": "text/x-python",
   "name": "python",
   "nbconvert_exporter": "python",
   "pygments_lexer": "ipython3",
   "version": "3.7.6"
  }
 },
 "nbformat": 4,
 "nbformat_minor": 4
}
