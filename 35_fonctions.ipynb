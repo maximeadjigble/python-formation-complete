{
 "cells": [
  {
   "cell_type": "code",
   "execution_count": 3,
   "metadata": {},
   "outputs": [],
   "source": [
    "def miauler():\n",
    "    print(\"chat1: Miaouuu\")\n",
    "    print(\"chat2: Miaouuuuuu\")"
   ]
  },
  {
   "cell_type": "code",
   "execution_count": 4,
   "metadata": {},
   "outputs": [
    {
     "name": "stdout",
     "output_type": "stream",
     "text": [
      "chat1: Miaouuu\n",
      "chat2: Miaouuuuuu\n"
     ]
    }
   ],
   "source": [
    "miauler()"
   ]
  },
  {
   "cell_type": "code",
   "execution_count": null,
   "metadata": {},
   "outputs": [],
   "source": [
    "#Projet: Créer une fonction guests()\n",
    "#1-Définir la fonction\n",
    "#2-Récupérer le nom de l'utilisateur\n",
    "#2-Afficher \"Bonjour Monsieur XXX\""
   ]
  },
  {
   "cell_type": "code",
   "execution_count": 5,
   "metadata": {},
   "outputs": [],
   "source": [
    "def guests():\n",
    "    nom = input(\"Entrez votre nom.\")\n",
    "    print(\"Bonjour Monsieur/Madame\", nom)"
   ]
  },
  {
   "cell_type": "code",
   "execution_count": 6,
   "metadata": {},
   "outputs": [
    {
     "name": "stdout",
     "output_type": "stream",
     "text": [
      "Entrez votre nom.Gates\n",
      "Bonjour Monsieur/Madame Gates\n"
     ]
    }
   ],
   "source": [
    "guests()"
   ]
  },
  {
   "cell_type": "code",
   "execution_count": 7,
   "metadata": {},
   "outputs": [
    {
     "name": "stdout",
     "output_type": "stream",
     "text": [
      "Entrez votre nom.Bezos\n",
      "Bonjour Monsieur/Madame Bezos\n"
     ]
    }
   ],
   "source": [
    "guests()"
   ]
  },
  {
   "cell_type": "code",
   "execution_count": 8,
   "metadata": {},
   "outputs": [],
   "source": [
    "def guests():\n",
    "    invites = [\"Musk\", \"Bezos\", \"Gates\",\"Agier\"]\n",
    "    nom = input(\"Entrez votre nom.\")\n",
    "    if nom.capitalize() in invites:\n",
    "        print(\"Bonjour Monsieur/Madame\", nom)\n",
    "        print(\"Bienvenue\")\n",
    "    else:\n",
    "        print(\"Désolé Monsieur/Madame {}, vous ne faites pas parti de la liste.\".format(nom))"
   ]
  },
  {
   "cell_type": "code",
   "execution_count": 9,
   "metadata": {},
   "outputs": [
    {
     "name": "stdout",
     "output_type": "stream",
     "text": [
      "Entrez votre nom.Agier\n",
      "Bonjour Monsieur/Madame Agier\n",
      "Bienvenue\n"
     ]
    }
   ],
   "source": [
    "guests()"
   ]
  },
  {
   "cell_type": "code",
   "execution_count": 10,
   "metadata": {},
   "outputs": [
    {
     "name": "stdout",
     "output_type": "stream",
     "text": [
      "Entrez votre nom.Chapotin\n",
      "Désole Monsieur/Madame Chapotin, vous ne faites pas parti de la liste.\n"
     ]
    }
   ],
   "source": [
    "guests()"
   ]
  },
  {
   "cell_type": "code",
   "execution_count": null,
   "metadata": {},
   "outputs": [],
   "source": []
  },
  {
   "cell_type": "code",
   "execution_count": null,
   "metadata": {},
   "outputs": [],
   "source": []
  }
 ],
 "metadata": {
  "kernelspec": {
   "display_name": "Python 3",
   "language": "python",
   "name": "python3"
  },
  "language_info": {
   "codemirror_mode": {
    "name": "ipython",
    "version": 3
   },
   "file_extension": ".py",
   "mimetype": "text/x-python",
   "name": "python",
   "nbconvert_exporter": "python",
   "pygments_lexer": "ipython3",
   "version": "3.7.6"
  }
 },
 "nbformat": 4,
 "nbformat_minor": 4
}
