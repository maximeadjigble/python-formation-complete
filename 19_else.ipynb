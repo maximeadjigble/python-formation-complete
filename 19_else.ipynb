{
 "cells": [
  {
   "cell_type": "code",
   "execution_count": 2,
   "metadata": {},
   "outputs": [
    {
     "name": "stdout",
     "output_type": "stream",
     "text": [
      "Condition non valide\n",
      "Fin!\n"
     ]
    }
   ],
   "source": [
    "if False:\n",
    "    print(\"Condition valide\")\n",
    "else:\n",
    "    print(\"Condition non valide\")\n",
    "print(\"Fin!\")"
   ]
  },
  {
   "cell_type": "code",
   "execution_count": 6,
   "metadata": {},
   "outputs": [
    {
     "name": "stdout",
     "output_type": "stream",
     "text": [
      "Mauvaise affaire!\n",
      "Je n'achete pas le produit\n",
      "Analyse terminée.\n"
     ]
    }
   ],
   "source": [
    "prix = 50\n",
    "\n",
    "if prix <= 20:\n",
    "    print(\"Bonne affaire!\")\n",
    "else:\n",
    "    print(\"Mauvaise affaire!\")\n",
    "    if prix > 40:\n",
    "        print(\"Je n'achete pas le produit\")\n",
    "print(\"Analyse terminée.\")"
   ]
  },
  {
   "cell_type": "code",
   "execution_count": 10,
   "metadata": {},
   "outputs": [
    {
     "name": "stdout",
     "output_type": "stream",
     "text": [
      "Je reste à la maison, regarder le télé\n"
     ]
    }
   ],
   "source": [
    "temps = \"ouragan\" #beau, nuageux, pluvieux, orage\n",
    "if temps == \"beau\":\n",
    "    print(\"Je vais à la plage.\")\n",
    "else:\n",
    "    print(\"Je reste à la maison, regarder le télé\")"
   ]
  },
  {
   "cell_type": "code",
   "execution_count": null,
   "metadata": {},
   "outputs": [],
   "source": []
  }
 ],
 "metadata": {
  "kernelspec": {
   "display_name": "Python 3",
   "language": "python",
   "name": "python3"
  },
  "language_info": {
   "codemirror_mode": {
    "name": "ipython",
    "version": 3
   },
   "file_extension": ".py",
   "mimetype": "text/x-python",
   "name": "python",
   "nbconvert_exporter": "python",
   "pygments_lexer": "ipython3",
   "version": "3.7.6"
  }
 },
 "nbformat": 4,
 "nbformat_minor": 4
}
