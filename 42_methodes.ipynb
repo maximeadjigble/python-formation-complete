{
 "cells": [
  {
   "cell_type": "code",
   "execution_count": 18,
   "metadata": {},
   "outputs": [],
   "source": [
    "class Personnage:\n",
    "    def __init__(self, nom, prenom, age):\n",
    "        self.nom = nom\n",
    "        self.prenom = prenom\n",
    "        self.age = age\n",
    "        \n",
    "    def presentation(self):\n",
    "        print(\"Bonjour je m'appel {} {}, j'ai {} ans\".format(self.prenom, self.nom, self.age))\n",
    "\n",
    "personne1 = Personnage(\"Musk\", \"Elon\", 48)\n",
    "personne2 = Personnage(\"Bezos\", \"Jeff\", 56)\n",
    "personne3 = Personnage(\"Smith\", \"John\", 38)"
   ]
  },
  {
   "cell_type": "code",
   "execution_count": 15,
   "metadata": {},
   "outputs": [
    {
     "name": "stdout",
     "output_type": "stream",
     "text": [
      "Bonjour je m'appel Elon Musk, j'ai 48 ans\n"
     ]
    }
   ],
   "source": [
    "personne1.presentation()"
   ]
  },
  {
   "cell_type": "code",
   "execution_count": 16,
   "metadata": {},
   "outputs": [
    {
     "name": "stdout",
     "output_type": "stream",
     "text": [
      "Bonjour je m'appel Jeff Bezos, j'ai 56 ans\n"
     ]
    }
   ],
   "source": [
    "personne2.presentation()"
   ]
  },
  {
   "cell_type": "code",
   "execution_count": 17,
   "metadata": {},
   "outputs": [
    {
     "name": "stdout",
     "output_type": "stream",
     "text": [
      "Bonjour je m'appel John Smith, j'ai 38 ans\n"
     ]
    }
   ],
   "source": [
    "personne3.presentation()"
   ]
  },
  {
   "cell_type": "code",
   "execution_count": null,
   "metadata": {},
   "outputs": [],
   "source": [
    "#Classe voiture\n",
    "\n",
    "#Attributs\n",
    "#litres_au_cents\n",
    "#carburant\n",
    "\n",
    "#Methodes\n",
    "#conduire100km\n",
    "#conduire(distance)\n",
    "#afficher_carburant"
   ]
  },
  {
   "cell_type": "code",
   "execution_count": 24,
   "metadata": {},
   "outputs": [],
   "source": [
    "class Voiture:\n",
    "    def __init__(self):\n",
    "        self.litres_au_cents = 5.4\n",
    "        self.carburant = 40\n",
    "        \n",
    "    def afficher_carburant(self):\n",
    "        print(\"Niveau de carburant:\", self.carburant)\n",
    "    \n",
    "    def conduire(self, distance_km):\n",
    "        self.carburant = self.carburant - distance_km*self.litres_au_cents/100\n",
    "        \n",
    "    def conduire100km(self):\n",
    "        self.carburant = self.carburant - self.litres_au_cents\n",
    "        "
   ]
  },
  {
   "cell_type": "code",
   "execution_count": 25,
   "metadata": {},
   "outputs": [
    {
     "name": "stdout",
     "output_type": "stream",
     "text": [
      "Niveau de carburant: 40\n"
     ]
    }
   ],
   "source": [
    "voiture1 = Voiture()\n",
    "voiture1.afficher_carburant()"
   ]
  },
  {
   "cell_type": "code",
   "execution_count": 26,
   "metadata": {},
   "outputs": [
    {
     "name": "stdout",
     "output_type": "stream",
     "text": [
      "Niveau de carburant: 37.3\n"
     ]
    }
   ],
   "source": [
    "#voiture1.conduire100km()\n",
    "voiture1.conduire(50)\n",
    "voiture1.afficher_carburant()"
   ]
  },
  {
   "cell_type": "code",
   "execution_count": null,
   "metadata": {},
   "outputs": [],
   "source": []
  }
 ],
 "metadata": {
  "kernelspec": {
   "display_name": "Python 3",
   "language": "python",
   "name": "python3"
  },
  "language_info": {
   "codemirror_mode": {
    "name": "ipython",
    "version": 3
   },
   "file_extension": ".py",
   "mimetype": "text/x-python",
   "name": "python",
   "nbconvert_exporter": "python",
   "pygments_lexer": "ipython3",
   "version": "3.7.6"
  }
 },
 "nbformat": 4,
 "nbformat_minor": 4
}
